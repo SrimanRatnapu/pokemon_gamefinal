{
 "cells": [
  {
   "cell_type": "code",
   "execution_count": 15,
   "metadata": {},
   "outputs": [
    {
     "name": "stdout",
     "output_type": "stream",
     "text": [
      "The autoreload extension is already loaded. To reload it, use:\n",
      "  %reload_ext autoreload\n"
     ]
    }
   ],
   "source": [
    "import numpy as np\n",
    "from pokemons import pikachu\n",
    "\n",
    "%load_ext autoreload\n",
    "%autoreload 2"
   ]
  },
  {
   "cell_type": "code",
   "execution_count": 16,
   "metadata": {},
   "outputs": [],
   "source": [
    "pika = pikachu(20)\n",
    "pika.add_move(name='Thunderbolt',move_type='Electric')\n",
    "pika.add_move(name='Tail Whip',move_type='Normal')\n",
    "pika.add_move(name='Quick Attack',move_type='Normal')\n",
    "pika.add_move(name='Iron Tail',move_type='Steel')"
   ]
  },
  {
   "cell_type": "code",
   "execution_count": 17,
   "metadata": {},
   "outputs": [
    {
     "name": "stdout",
     "output_type": "stream",
     "text": [
      "{'Thunderbolt': {'Power': 90, 'Accuracy': 100}, 'Tail Whip': {'Power': 0, 'Accuracy': 100}, 'Quick Attack': {'Power': 40, 'Accuracy': 100}, 'Iron Tail': {'Power': 100, 'Accuracy': 75}}\n"
     ]
    }
   ],
   "source": [
    "print(pika.moves)"
   ]
  },
  {
   "cell_type": "code",
   "execution_count": null,
   "metadata": {},
   "outputs": [],
   "source": []
  }
 ],
 "metadata": {
  "kernelspec": {
   "display_name": "Python 3 (ipykernel)",
   "language": "python",
   "name": "python3"
  },
  "language_info": {
   "codemirror_mode": {
    "name": "ipython",
    "version": 3
   },
   "file_extension": ".py",
   "mimetype": "text/x-python",
   "name": "python",
   "nbconvert_exporter": "python",
   "pygments_lexer": "ipython3",
   "version": "3.9.7"
  }
 },
 "nbformat": 4,
 "nbformat_minor": 4
}

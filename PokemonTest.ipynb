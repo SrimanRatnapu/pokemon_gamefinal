{
 "cells": [
  {
   "cell_type": "code",
   "execution_count": 70,
   "metadata": {},
   "outputs": [],
   "source": [
    "from pprint import pprint\n",
    "\n",
    "\n",
    "valid_moves = {'Electric': ['Thunder', 'Thunderbolt', 'Wild Charge'],\n",
    "               'Normal': ['Tail Whip', 'Quick Attack'],\n",
    "               'Steel': ['Iron Tail', 'Iron Head', 'Flash Cannon']            \n",
    "              }\n",
    "\n",
    "electric_move_stats = {'Thunderbolt': {'Power': 90, 'Accuracy': 100, 'Type': 'Electric'},\n",
    "                      'Thunder': {'Power': 110, 'Accuracy': 70, 'Type': 'Electric'},\n",
    "                       'Wild Charge': {'Power': 90, 'Accuracy': 100, 'Type': 'Electric'}\n",
    "                      }\n",
    "\n",
    "normal_move_stats   = {'Tail Whip': {'Power': 0, 'Accuracy': 100, 'Type': 'Normal'},\n",
    "                       'Quick Attack': {'Power': 40, 'Accuracy': 100, 'Type': 'Normal'}\n",
    "                      }\n",
    "\n",
    "steel_move_stats = {'Iron Tail': {'Power': 100, 'Accuracy': 75, 'Type': 'Steel'}\n",
    "                   }\n",
    "\n",
    "\n",
    "def identify_move_stats(name, move_type):\n",
    "    if name not in valid_moves[move_type]:\n",
    "        print('Error, %s not a valid move' % name)\n",
    "        return None\n",
    "        \n",
    "    if move_type == 'Electric':\n",
    "        return electric_move_stats[name]\n",
    "    elif move_type == 'Normal':\n",
    "        return normal_move_stats[name]\n",
    "    elif move_type == 'Steel':\n",
    "        return steel_move_stats[name]\n",
    "\n",
    "\n",
    "\n",
    "\n",
    "class pikachu(object):\n",
    "    \n",
    "    def __init__(self, level):\n",
    "        self.moves = {}\n",
    "        self.level = level\n",
    "        self.type  = 'Electric'\n",
    "        \n",
    "        self.maximum_stats   = {'health': 35, 'attack': 55, 'defense': 40}\n",
    "        self.effective_stats = {'health': None, 'attack': None, 'defense': None}\n",
    "        self._stat_calculation()\n",
    "        self.current_hp = self.effective_stats['health']\n",
    "        self.alive = True\n",
    "           \n",
    "        \n",
    "    def _stat_calculation(self):\n",
    "        \n",
    "        # lambda function\n",
    "        stat_calc = lambda x,y: int(x/100.*y)\n",
    "        \n",
    "        health = self.maximum_stats['health']\n",
    "        effective_health = max(stat_calc(self.level, health), 5)\n",
    "        self.effective_stats['health'] = effective_health\n",
    "        \n",
    "        attack = self.maximum_stats['attack']\n",
    "        effective_attack = max(stat_calc(self.level, attack), 5)\n",
    "        self.effective_stats['attack'] = effective_attack\n",
    "        \n",
    "        defense = self.maximum_stats['defense']\n",
    "        effective_defense = max(stat_calc(self.level, defense), 5)\n",
    "        self.effective_stats['defense'] = effective_defense\n",
    "        \n",
    "        \n",
    "        \n",
    "    def add_move(self, name=None, move_type=None):\n",
    "        if len(self.moves.keys()) == 4:\n",
    "            print('Error, can only have 4 moves maximum')\n",
    "            return\n",
    "        \n",
    "        move_stats = identify_move_stats(name, move_type)\n",
    "        if move_stats is not None: self.moves[name] = move_stats\n",
    "  \n",
    "    def print_stats(self):\n",
    "        pprint(self.effective_stats)\n",
    "        \n",
    "    def print_moves(self):\n",
    "        pprint(self.moves)\n",
    "        \n",
    "        \n",
    "        \n",
    "\n"
   ]
  },
  {
   "cell_type": "code",
   "execution_count": 82,
   "metadata": {},
   "outputs": [],
   "source": [
    "type_order = ['Normal', 'Fighting', 'Flying', 'Poison', 'Ground', 'Rock', 'Bug', 'Ghost', 'Steel', 'Fire', 'Water',\n",
    "             'Grass', 'Electric', 'Psychic', 'Ice', 'Dragon', 'Dark', 'Fairy']\n",
    "\n",
    "multiplier_index = [\n",
    "                    [1, 1, 1 ,1, 1, 0.5, 1, 0, 0.5, 1, 1, 1, 1, 1, 1, 1, 1, 1], \n",
    "                    [2, 1, 0.5, 0.5, 1, 2, 0.5, 0, 2, 1, 1, 1, 1, 0.5, 2, 1, 2, 0.5], \n",
    "                    [1, 2, 1, 1, 1, 0.5, 2, 1, 0.5, 1, 1, 2, 0.5, 1, 1, 1, 1, 1],\n",
    "                    [1,1,1,0.5,0.5,0.5,1,0.5,0,1,1,2,1,1,1,1,1,2],\n",
    "                    [1,1,0,2,1,2,0.5,1,2,2,1,0.5,2,1,1,1,1,1], \n",
    "                    [1,0.5,2,1,0.5,1,2,1,0.5,2,1,1,1,1,2,1,1,1],\n",
    "                    [1,0.5,0.5,0.5,1,1,1,0.5,0.5,0.5,1,2,1,2,1,1,2,0.5],\n",
    "                    [0,1,1,1,1,1,1,2,1,1,1,1,1,2,1,1,0.5,1],\n",
    "                    [1,1,1,1,1,2,1,1,0.5,0.5,0.5,1,0.5,1,2,1,1,2],\n",
    "                    [1,1,1,1,1,0.5,2,1,2,0.5,0.5,2,1,1,2,0.5,1,1],\n",
    "                    [1,1,1,1,2,2,1,1,1,2,0.5,0.5,1,1,1,0.5,1,1],\n",
    "                    [1,1,0.5,0.5,2,2,0.5,1,0.5,0.5,2,0.5,1,1,1,0.5,1,1],\n",
    "                    [1,1,2,1,0,1,1,1,1,1,2,0.5,0.5,1,1,0.5,1,1],\n",
    "                    [1,2,1,2,1,1,1,1,0.5,1,1,1,1,0.5,1,1,0,1],\n",
    "                    [1,1,2,1,2,1,1,1,0.5,0.5,0.5,2,1,1,0.5,2,1,1,],\n",
    "                    [1,1,1,1,1,1,1,1,0.5,1,1,1,1,1,1,2,1,0],\n",
    "                    [1,0.5,1,1,1,1,1,2,1,1,1,1,1,2,1,1,0.5,0.5],\n",
    "                    [1,2,1,0.5,1,1,1,1,0.5,0.5,1,1,1,1,1,2,2,1]     \n",
    "                ]\n",
    "def damage_multiplier(attack_type, defend_type):\n",
    "    attack_index = type_order.index(attack_type)\n",
    "    defend_index = type_order.index(defend_type)\n",
    "    return multiplier_index[attack_index][defend_index]\n",
    "    \n",
    "\n",
    "\n",
    "def damage_calculation(level, move_power, self_attack, target_defense):\n",
    "    ad = self_attack / target_defense\n",
    "    dmg = 2. + ( 0.4 * level * move_power * ad) / 50.\n",
    "    return round(dmg)\n",
    "\n",
    "def perform_move(attacking_pokemon, defending_pokemon, move):\n",
    "    # check if move is valid\n",
    "    # include randomness because accuracy may not be 100'\n",
    "    if move not in attacking_pokemon.moves:\n",
    "        print(\"Move not valid\")\n",
    "        return 0\n",
    "    move_hit = np.random.uniform(0,100)\n",
    "    if move_hit > attacking_pokemon.moves[move]['Accuracy']:\n",
    "        print(\"Move missed!\")\n",
    "        return 0\n",
    "    \n",
    "    # Get miltiplier here\n",
    "    dmg_multiplier = damage_multiplier(attacking_pokemon.moves[move]['Type'], defending_pokemon.type)    \n",
    "    move_damage = damage_calculation(attacking_pokemon.level, attacking_pokemon.moves[move]['Power'], attacking_pokemon.effective_stats['attack'], defending_pokemon.effective_stats['defense'])\n",
    "    effective_move_damage = move_damage * dmg_multiplier\n",
    "    print(move_damage, effective_move_damage)\n",
    "    defending_pokemon.current_hp -= effective_move_damage\n",
    "    return 1\n",
    "    \n",
    "    \n",
    "    "
   ]
  },
  {
   "cell_type": "code",
   "execution_count": 83,
   "metadata": {},
   "outputs": [
    {
     "name": "stdout",
     "output_type": "stream",
     "text": [
      "0.5\n"
     ]
    },
    {
     "data": {
      "image/png": "[encoded data removed]",
      "text/plain": [
       "<Figure size 432x288 with 2 Axes>"
      ]
     },
     "metadata": {
      "needs_background": "light"
     },
     "output_type": "display_data"
    }
   ],
   "source": [
    "plt.imshow(multiplier_index, cmap='inferno')\n",
    "plt.colorbar()\n",
    "\n",
    "print(damage_multiplier('Electric', 'Electric'))"
   ]
  },
  {
   "cell_type": "code",
   "execution_count": 84,
   "metadata": {},
   "outputs": [
    {
     "name": "stdout",
     "output_type": "stream",
     "text": [
      "{'attack': 11, 'defense': 8, 'health': 7}\n",
      "{'Iron Tail': {'Accuracy': 75, 'Power': 100, 'Type': 'Steel'},\n",
      " 'Quick Attack': {'Accuracy': 100, 'Power': 40, 'Type': 'Normal'},\n",
      " 'Tail Whip': {'Accuracy': 100, 'Power': 0, 'Type': 'Normal'},\n",
      " 'Thunderbolt': {'Accuracy': 100, 'Power': 90, 'Type': 'Electric'}}\n"
     ]
    }
   ],
   "source": [
    "\n",
    "pika1 = pikachu(20)\n",
    "\n",
    "pika1.add_move(name='Thunderbolt',move_type='Electric')\n",
    "pika1.add_move(name='Tail Whip',move_type='Normal')\n",
    "pika1.add_move(name='Quick Attack',move_type='Normal')\n",
    "pika1.add_move(name='Iron Tail',move_type='Steel')\n",
    "\n",
    "pika1.print_stats()\n",
    "pika1.print_moves()\n",
    "\n"
   ]
  },
  {
   "cell_type": "code",
   "execution_count": 85,
   "metadata": {},
   "outputs": [
    {
     "name": "stdout",
     "output_type": "stream",
     "text": [
      "{'attack': 11, 'defense': 8, 'health': 7}\n",
      "{'Iron Tail': {'Accuracy': 75, 'Power': 100, 'Type': 'Steel'},\n",
      " 'Quick Attack': {'Accuracy': 100, 'Power': 40, 'Type': 'Normal'},\n",
      " 'Tail Whip': {'Accuracy': 100, 'Power': 0, 'Type': 'Normal'},\n",
      " 'Thunderbolt': {'Accuracy': 100, 'Power': 90, 'Type': 'Electric'}}\n"
     ]
    }
   ],
   "source": [
    "\n",
    "pika2 = pikachu(20)\n",
    "\n",
    "pika2.add_move(name='Thunderbolt',move_type='Electric')\n",
    "pika2.add_move(name='Tail Whip',move_type='Normal')\n",
    "pika2.add_move(name='Quick Attack',move_type='Normal')\n",
    "pika2.add_move(name='Iron Tail',move_type='Steel')\n",
    "\n",
    "pika2.print_stats()\n",
    "pika2.print_moves()\n",
    "\n"
   ]
  },
  {
   "cell_type": "code",
   "execution_count": 86,
   "metadata": {},
   "outputs": [
    {
     "name": "stdout",
     "output_type": "stream",
     "text": [
      "22 11.0\n",
      "7 -4.0\n"
     ]
    }
   ],
   "source": [
    "perform_move(pika1, pika2, 'Thunderbolt')\n",
    "print(pika1.current_hp, pika2.current_hp)"
   ]
  },
  {
   "cell_type": "code",
   "execution_count": null,
   "metadata": {},
   "outputs": [],
   "source": []
  },
  {
   "cell_type": "code",
   "execution_count": null,
   "metadata": {},
   "outputs": [],
   "source": []
  }
 ],
 "metadata": {
  "kernelspec": {
   "display_name": "Python 3 (ipykernel)",
   "language": "python",
   "name": "python3"
  },
  "language_info": {
   "codemirror_mode": {
    "name": "ipython",
    "version": 3
   },
   "file_extension": ".py",
   "mimetype": "text/x-python",
   "name": "python",
   "nbconvert_exporter": "python",
   "pygments_lexer": "ipython3",
   "version": "3.9.7"
  }
 },
 "nbformat": 4,
 "nbformat_minor": 4
}

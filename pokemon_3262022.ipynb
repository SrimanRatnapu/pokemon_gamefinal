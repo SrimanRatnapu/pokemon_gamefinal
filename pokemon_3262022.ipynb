{
 "cells": [
  {
   "cell_type": "code",
   "execution_count": 12,
   "metadata": {},
   "outputs": [
    {
     "name": "stdout",
     "output_type": "stream",
     "text": [
      "The autoreload extension is already loaded. To reload it, use:\n",
      "  %reload_ext autoreload\n"
     ]
    }
   ],
   "source": [
    "import sys\n",
    "sys.path.append('pokemon_classes')\n",
    "sys.path.append('utils')\n",
    "\n",
    "\n",
    "\n",
    "import numpy as np\n",
    "from pprint import pprint\n",
    "from pokemon_classes import pokemons\n",
    "from utils import combat\n",
    "from utils import trainer\n",
    "from utils import battle\n",
    "import pypokedex\n",
    "import pokepy\n",
    "\n",
    "%load_ext autoreload\n",
    "%autoreload 2\n"
   ]
  },
  {
   "cell_type": "code",
   "execution_count": 19,
   "metadata": {},
   "outputs": [],
   "source": [
    "t1 = trainer.NaiveTrainer(\"Bob\")\n",
    "t1.add_pokemon('Charizard')\n",
    "t1.add_pokemon(\"Pikachu\")\n",
    "\n",
    "t2 = trainer.NaiveTrainer(\"Todd\")\n",
    "t2.add_pokemon('Blastoise')\n",
    "t2.add_pokemon(\"Bulbasaur\")"
   ]
  },
  {
   "cell_type": "code",
   "execution_count": 22,
   "metadata": {},
   "outputs": [],
   "source": [
    "b = battle.Battle(t1, t2)"
   ]
  },
  {
   "cell_type": "code",
   "execution_count": 23,
   "metadata": {},
   "outputs": [
    {
     "name": "stdout",
     "output_type": "stream",
     "text": [
      "Trainer Bob has chosen Pikachu\n",
      "Trainer Todd has chosen Blastoise\n",
      "Bob's Pikachu will perform reflect\n",
      "Todd's Blastoise will perform fissure\n",
      "Move missed!\n",
      "Bob's Pikachu will perform reflect\n",
      "Todd's Blastoise will perform surf\n",
      "Pikachu has fainted!\n",
      "Trainer Bob has chosen Charizard\n",
      "Bob's Charizard will perform swords-dance\n",
      "Todd's Blastoise will perform surf\n",
      "Charizard has fainted!\n",
      "Trainer Bob is out of pokemon and has lost the match\n"
     ]
    }
   ],
   "source": [
    "b.run_battle()"
   ]
  },
  {
   "cell_type": "code",
   "execution_count": 40,
   "metadata": {},
   "outputs": [
    {
     "name": "stdout",
     "output_type": "stream",
     "text": [
      "Trainer Bob has chosen Charizard\n",
      "Trainer Todd has chosen Bulbasaur\n"
     ]
    }
   ],
   "source": [
    "t1.choose_pokemon()\n",
    "t2.choose_pokemon()"
   ]
  },
  {
   "cell_type": "code",
   "execution_count": 45,
   "metadata": {},
   "outputs": [
    {
     "name": "stdout",
     "output_type": "stream",
     "text": [
      "earthquake\n",
      "Blastoise has fainted!\n",
      "Trainer Todd is out of pokemon and has lost the match\n"
     ]
    }
   ],
   "source": [
    "t1.pokemon_attack(t2)\n"
   ]
  },
  {
   "cell_type": "code",
   "execution_count": null,
   "metadata": {},
   "outputs": [],
   "source": [
    "print(t2.battling_pokemon.current_hp)"
   ]
  },
  {
   "cell_type": "code",
   "execution_count": null,
   "metadata": {},
   "outputs": [],
   "source": []
  },
  {
   "cell_type": "code",
   "execution_count": null,
   "metadata": {},
   "outputs": [],
   "source": []
  },
  {
   "cell_type": "code",
   "execution_count": null,
   "metadata": {},
   "outputs": [],
   "source": []
  },
  {
   "cell_type": "code",
   "execution_count": 22,
   "metadata": {},
   "outputs": [
    {
     "name": "stdout",
     "output_type": "stream",
     "text": [
      "<pokemon_classes.pokemons.Pikachu object at 0x7ff731e7dee0>\n"
     ]
    }
   ],
   "source": [
    "pika1 = pokemons.Pikachu(20)\n",
    "pika2 = pokemons.Pikachu(20)\n",
    "print(pika1)"
   ]
  },
  {
   "cell_type": "code",
   "execution_count": 3,
   "metadata": {},
   "outputs": [],
   "source": [
    "pika1.add_move('flash')\n",
    "pika1.add_move('thunder')\n",
    "pika1.add_move('quick-attack')\n",
    "pika1.add_move('thunder-wave')\n",
    "\n",
    "pika2.add_move('flash')\n",
    "pika2.add_move('thunder')\n",
    "pika2.add_move('quick-attack')\n",
    "pika2.add_move('thunder-wave')\n"
   ]
  },
  {
   "cell_type": "code",
   "execution_count": 9,
   "metadata": {},
   "outputs": [
    {
     "data": {
      "text/plain": [
       "1"
      ]
     },
     "execution_count": 9,
     "metadata": {},
     "output_type": "execute_result"
    }
   ],
   "source": [
    "combat.perform_move(pika1, pika2, 'thunder')"
   ]
  },
  {
   "cell_type": "code",
   "execution_count": 10,
   "metadata": {},
   "outputs": [
    {
     "name": "stdout",
     "output_type": "stream",
     "text": [
      "7\n",
      "-19.0\n"
     ]
    }
   ],
   "source": [
    "print(pika1.current_hp)\n",
    "print(pika2.current_hp)"
   ]
  },
  {
   "cell_type": "code",
   "execution_count": 21,
   "metadata": {},
   "outputs": [],
   "source": [
    "bulbasaur = pokemons.Bulbasaur(100)\n",
    "squirtle = pokemons.Squirtle(100)"
   ]
  },
  {
   "cell_type": "code",
   "execution_count": 22,
   "metadata": {},
   "outputs": [],
   "source": [
    "bulbasaur.add_move('cut')\n",
    "bulbasaur.add_move('vine-whip')\n",
    "bulbasaur.add_move('leech-seed')\n",
    "bulbasaur.add_move('razor-leaf')\n",
    "squirtle.add_move('hydro-pump')\n",
    "squirtle.add_move('tackle')\n",
    "squirtle.add_move('hydro-pump')"
   ]
  },
  {
   "cell_type": "code",
   "execution_count": 23,
   "metadata": {},
   "outputs": [
    {
     "data": {
      "text/plain": [
       "{'mega-punch': {'Power': 80, 'Accuracy': 85, 'Type': 'normal'},\n",
       " 'mega-kick': {'Power': 120, 'Accuracy': 75, 'Type': 'normal'},\n",
       " 'tackle': {'Power': 40, 'Accuracy': 100, 'Type': 'normal'},\n",
       " 'body-slam': {'Power': 85, 'Accuracy': 100, 'Type': 'normal'},\n",
       " 'take-down': {'Power': 90, 'Accuracy': 85, 'Type': 'normal'},\n",
       " 'double-edge': {'Power': 120, 'Accuracy': 100, 'Type': 'normal'},\n",
       " 'tail-whip': {'Power': None, 'Accuracy': 100, 'Type': 'normal'},\n",
       " 'bite': {'Power': 60, 'Accuracy': 100, 'Type': 'dark'},\n",
       " 'water-gun': {'Power': 40, 'Accuracy': 100, 'Type': 'water'},\n",
       " 'hydro-pump': {'Power': 110, 'Accuracy': 80, 'Type': 'water'},\n",
       " 'surf': {'Power': 90, 'Accuracy': 100, 'Type': 'water'},\n",
       " 'ice-beam': {'Power': 90, 'Accuracy': 100, 'Type': 'ice'},\n",
       " 'blizzard': {'Power': 110, 'Accuracy': 70, 'Type': 'ice'},\n",
       " 'bubble-beam': {'Power': 65, 'Accuracy': 100, 'Type': 'water'},\n",
       " 'submission': {'Power': 80, 'Accuracy': 80, 'Type': 'fighting'},\n",
       " 'counter': {'Power': None, 'Accuracy': 100, 'Type': 'fighting'},\n",
       " 'seismic-toss': {'Power': None, 'Accuracy': 100, 'Type': 'fighting'},\n",
       " 'strength': {'Power': 80, 'Accuracy': 100, 'Type': 'normal'},\n",
       " 'dig': {'Power': 80, 'Accuracy': 100, 'Type': 'ground'},\n",
       " 'toxic': {'Power': None, 'Accuracy': 90, 'Type': 'poison'},\n",
       " 'rage': {'Power': 20, 'Accuracy': 100, 'Type': 'normal'},\n",
       " 'mimic': {'Power': None, 'Accuracy': None, 'Type': 'normal'},\n",
       " 'double-team': {'Power': None, 'Accuracy': None, 'Type': 'normal'},\n",
       " 'withdraw': {'Power': None, 'Accuracy': None, 'Type': 'water'},\n",
       " 'reflect': {'Power': None, 'Accuracy': None, 'Type': 'psychic'},\n",
       " 'bide': {'Power': None, 'Accuracy': None, 'Type': 'normal'},\n",
       " 'skull-bash': {'Power': 130, 'Accuracy': 100, 'Type': 'normal'},\n",
       " 'bubble': {'Power': 40, 'Accuracy': 100, 'Type': 'water'},\n",
       " 'rest': {'Power': None, 'Accuracy': None, 'Type': 'psychic'},\n",
       " 'substitute': {'Power': None, 'Accuracy': None, 'Type': 'normal'}}"
      ]
     },
     "execution_count": 23,
     "metadata": {},
     "output_type": "execute_result"
    }
   ],
   "source": [
    "squirtle.valid_moves"
   ]
  },
  {
   "cell_type": "code",
   "execution_count": 31,
   "metadata": {},
   "outputs": [
    {
     "name": "stdout",
     "output_type": "stream",
     "text": [
      "0.5\n"
     ]
    },
    {
     "data": {
      "text/plain": [
       "1"
      ]
     },
     "execution_count": 31,
     "metadata": {},
     "output_type": "execute_result"
    }
   ],
   "source": [
    "combat.perform_move(squirtle, bulbasaur, 'hydro-pump')"
   ]
  },
  {
   "cell_type": "code",
   "execution_count": 30,
   "metadata": {},
   "outputs": [
    {
     "name": "stdout",
     "output_type": "stream",
     "text": [
      "44\n",
      "1.0\n"
     ]
    }
   ],
   "source": [
    "print(squirtle.current_hp)\n",
    "print(bulbasaur.current_hp)"
   ]
  },
  {
   "cell_type": "code",
   "execution_count": null,
   "metadata": {},
   "outputs": [],
   "source": []
  }
 ],
 "metadata": {
  "kernelspec": {
   "display_name": "Python 3 (ipykernel)",
   "language": "python",
   "name": "python3"
  },
  "language_info": {
   "codemirror_mode": {
    "name": "ipython",
    "version": 3
   },
   "file_extension": ".py",
   "mimetype": "text/x-python",
   "name": "python",
   "nbconvert_exporter": "python",
   "pygments_lexer": "ipython3",
   "version": "3.9.7"
  }
 },
 "nbformat": 4,
 "nbformat_minor": 4
}
